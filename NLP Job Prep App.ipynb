{
 "cells": [
  {
   "cell_type": "code",
   "execution_count": 1,
   "id": "639f87d6",
   "metadata": {},
   "outputs": [],
   "source": [
    "import wikipediaapi\n",
    "import pandas as pd\n",
    "import os\n",
    "import openai\n",
    "import docx"
   ]
  },
  {
   "cell_type": "markdown",
   "id": "847000f5",
   "metadata": {},
   "source": [
    "## 1.1. Downloading Articles from Wiki regarding Tasks of Natural Language Processing"
   ]
  },
  {
   "cell_type": "code",
   "execution_count": 3,
   "id": "0af20178",
   "metadata": {},
   "outputs": [],
   "source": [
    "wiki_wiki = wikipediaapi.Wikipedia(\n",
    "        language='en',\n",
    "        extract_format=wikipediaapi.ExtractFormat.WIKI\n",
    ")\n",
    "\n",
    "def get_category_text(categorymembers):\n",
    "    terms = []\n",
    "    sections = []\n",
    "    texts = []\n",
    "    for c in categorymembers.values():\n",
    "        term = c.title\n",
    "        try:\n",
    "            page = wiki_wiki.page(c.title)\n",
    "            intro_text = page.text[0:page.text.index(\"\\n\\n\")]\n",
    "            terms.append(term)\n",
    "            sections.append(\"intro\")\n",
    "            texts.append(intro_text)\n",
    "            for sec in page.sections:\n",
    "                section_title = sec.title\n",
    "                section_text = sec.text\n",
    "                terms.append(term)\n",
    "                sections.append(section_title)\n",
    "                texts.append(section_text)\n",
    "        except:\n",
    "            continue\n",
    "        if c.ns == wikipediaapi.Namespace.CATEGORY:\n",
    "            nested_terms, nested_sections, nested_texts = get_category_text(c.categorymembers)\n",
    "            terms.extend(nested_terms)\n",
    "            sections.extend(nested_sections)\n",
    "            texts.extend(nested_texts)\n",
    "    return terms, sections, texts\n",
    "\n",
    "cat = wiki_wiki.page(\"Category:Tasks of natural language processing\")\n",
    "terms, sections, texts = get_category_text(cat.categorymembers)\n",
    "df = pd.DataFrame({'article': terms, 'section': sections, 'text': texts})\n"
   ]
  },
  {
   "cell_type": "code",
   "execution_count": 4,
   "id": "b851cdc3",
   "metadata": {},
   "outputs": [
    {
     "data": {
      "text/html": [
       "<div>\n",
       "<style scoped>\n",
       "    .dataframe tbody tr th:only-of-type {\n",
       "        vertical-align: middle;\n",
       "    }\n",
       "\n",
       "    .dataframe tbody tr th {\n",
       "        vertical-align: top;\n",
       "    }\n",
       "\n",
       "    .dataframe thead th {\n",
       "        text-align: right;\n",
       "    }\n",
       "</style>\n",
       "<table border=\"1\" class=\"dataframe\">\n",
       "  <thead>\n",
       "    <tr style=\"text-align: right;\">\n",
       "      <th></th>\n",
       "      <th>article</th>\n",
       "      <th>section</th>\n",
       "      <th>text</th>\n",
       "    </tr>\n",
       "  </thead>\n",
       "  <tbody>\n",
       "    <tr>\n",
       "      <th>0</th>\n",
       "      <td>Anaphora (linguistics)</td>\n",
       "      <td>intro</td>\n",
       "      <td>In linguistics, anaphora () is the use of an e...</td>\n",
       "    </tr>\n",
       "    <tr>\n",
       "      <th>1</th>\n",
       "      <td>Anaphora (linguistics)</td>\n",
       "      <td>Nomenclature and examples</td>\n",
       "      <td>The term anaphora is actually used in two ways...</td>\n",
       "    </tr>\n",
       "    <tr>\n",
       "      <th>2</th>\n",
       "      <td>Anaphora (linguistics)</td>\n",
       "      <td>In generative grammar</td>\n",
       "      <td>The term anaphor is used in a special way in t...</td>\n",
       "    </tr>\n",
       "    <tr>\n",
       "      <th>3</th>\n",
       "      <td>Anaphora (linguistics)</td>\n",
       "      <td>Complement anaphora</td>\n",
       "      <td>In some cases, anaphora may refer not to its u...</td>\n",
       "    </tr>\n",
       "    <tr>\n",
       "      <th>4</th>\n",
       "      <td>Anaphora (linguistics)</td>\n",
       "      <td>Anaphora resolution – centering theory</td>\n",
       "      <td>There are many theories that attempt to prove ...</td>\n",
       "    </tr>\n",
       "    <tr>\n",
       "      <th>...</th>\n",
       "      <td>...</td>\n",
       "      <td>...</td>\n",
       "      <td>...</td>\n",
       "    </tr>\n",
       "    <tr>\n",
       "      <th>188</th>\n",
       "      <td>Textual entailment</td>\n",
       "      <td>External links</td>\n",
       "      <td>Textual Entailment Resource Pool</td>\n",
       "    </tr>\n",
       "    <tr>\n",
       "      <th>189</th>\n",
       "      <td>Truecasing</td>\n",
       "      <td>intro</td>\n",
       "      <td>Truecasing, also called capitalization recover...</td>\n",
       "    </tr>\n",
       "    <tr>\n",
       "      <th>190</th>\n",
       "      <td>Truecasing</td>\n",
       "      <td>Techniques</td>\n",
       "      <td>Neural network models that operate at the word...</td>\n",
       "    </tr>\n",
       "    <tr>\n",
       "      <th>191</th>\n",
       "      <td>Truecasing</td>\n",
       "      <td>Applications</td>\n",
       "      <td>Truecasing aids in other NLP tasks, such as na...</td>\n",
       "    </tr>\n",
       "    <tr>\n",
       "      <th>192</th>\n",
       "      <td>Truecasing</td>\n",
       "      <td>See also</td>\n",
       "      <td>Sentence case\\nTitle case\\n\\n\\n== References ==</td>\n",
       "    </tr>\n",
       "  </tbody>\n",
       "</table>\n",
       "<p>193 rows × 3 columns</p>\n",
       "</div>"
      ],
      "text/plain": [
       "                    article                                 section  \\\n",
       "0    Anaphora (linguistics)                                   intro   \n",
       "1    Anaphora (linguistics)               Nomenclature and examples   \n",
       "2    Anaphora (linguistics)                   In generative grammar   \n",
       "3    Anaphora (linguistics)                     Complement anaphora   \n",
       "4    Anaphora (linguistics)  Anaphora resolution – centering theory   \n",
       "..                      ...                                     ...   \n",
       "188      Textual entailment                          External links   \n",
       "189              Truecasing                                   intro   \n",
       "190              Truecasing                              Techniques   \n",
       "191              Truecasing                            Applications   \n",
       "192              Truecasing                                See also   \n",
       "\n",
       "                                                  text  \n",
       "0    In linguistics, anaphora () is the use of an e...  \n",
       "1    The term anaphora is actually used in two ways...  \n",
       "2    The term anaphor is used in a special way in t...  \n",
       "3    In some cases, anaphora may refer not to its u...  \n",
       "4    There are many theories that attempt to prove ...  \n",
       "..                                                 ...  \n",
       "188                   Textual Entailment Resource Pool  \n",
       "189  Truecasing, also called capitalization recover...  \n",
       "190  Neural network models that operate at the word...  \n",
       "191  Truecasing aids in other NLP tasks, such as na...  \n",
       "192    Sentence case\\nTitle case\\n\\n\\n== References ==  \n",
       "\n",
       "[193 rows x 3 columns]"
      ]
     },
     "execution_count": 4,
     "metadata": {},
     "output_type": "execute_result"
    }
   ],
   "source": [
    "df"
   ]
  },
  {
   "cell_type": "code",
   "execution_count": 5,
   "id": "68f534e8",
   "metadata": {},
   "outputs": [
    {
     "data": {
      "text/plain": [
       "array(['Anaphora (linguistics)', 'Automated essay scoring',\n",
       "       'Automatic hyperlinking', 'Automatic summarization',\n",
       "       'CLAWS (linguistics)', 'Collocation extraction', 'Entity linking',\n",
       "       'Google Neural Machine Translation', 'Language identification',\n",
       "       'Lemmatisation', 'Linguistic empathy', 'Machine translation',\n",
       "       'Mobile translation',\n",
       "       'Name resolution (semantics and text extraction)',\n",
       "       'Named-entity recognition', 'Neural machine translation',\n",
       "       'Open information extraction', 'Part-of-speech tagging',\n",
       "       'Phrase chunking', 'Question answering', 'Relationship extraction',\n",
       "       'Résumé parsing', 'Semantic parsing', 'Semantic role labeling',\n",
       "       'Sentence boundary disambiguation', 'Shallow parsing', 'Stemming',\n",
       "       'Terminology extraction', 'Text segmentation',\n",
       "       'Text simplification', 'Textual entailment', 'Truecasing'],\n",
       "      dtype=object)"
      ]
     },
     "execution_count": 5,
     "metadata": {},
     "output_type": "execute_result"
    }
   ],
   "source": [
    "df.article.unique()"
   ]
  },
  {
   "cell_type": "code",
   "execution_count": 6,
   "id": "06462a21",
   "metadata": {},
   "outputs": [
    {
     "data": {
      "text/plain": [
       "array(['In linguistics, anaphora () is the use of an expression whose interpretation depends upon another expression in context (its antecedent or postcedent). In a narrower sense, anaphora is the use of an expression that depends specifically upon an antecedent expression and thus is contrasted with cataphora, which is the use of an expression that depends upon a postcedent expression. The anaphoric (referring) term is called an anaphor. For example, in the sentence Sally arrived, but nobody saw her, the pronoun her is an anaphor, referring back to the antecedent Sally. In the sentence Before her arrival, nobody saw Sally, the pronoun her refers forward to the postcedent Sally, so her is now a cataphor (and an anaphor in the broader, but not the narrower, sense). Usually, an anaphoric expression is a pro-form or some other kind of deictic (contextually dependent) expression. Both anaphora and cataphora are species of endophora, referring to something mentioned elsewhere in a dialog or text.\\nAnaphora is an important concept for different reasons and on different levels: first, anaphora indicates how discourse is constructed and maintained; second, anaphora binds different syntactical elements together at the level of the sentence; third, anaphora presents a challenge to natural language processing in computational linguistics, since the identification of the reference can be difficult; and fourth, anaphora partially reveals how language is understood and processed, which is relevant to fields of linguistics interested in cognitive psychology.'],\n",
       "      dtype=object)"
      ]
     },
     "execution_count": 6,
     "metadata": {},
     "output_type": "execute_result"
    }
   ],
   "source": [
    "df.loc[(df[\"article\"]==\"Anaphora (linguistics)\")&(df[\"section\"]==\"intro\")].text.values"
   ]
  },
  {
   "cell_type": "markdown",
   "id": "358b8515",
   "metadata": {},
   "source": [
    "## 1.2. Removing Irrelevant Sections"
   ]
  },
  {
   "cell_type": "code",
   "execution_count": 7,
   "id": "91054595",
   "metadata": {},
   "outputs": [],
   "source": [
    "\n",
    "discard_categories = ['See also', 'References', 'External links', 'Further reading', \"Footnotes\",\n",
    "    \"Bibliography\", \"Sources\", \"Citations\", \"Literature\", \"Footnotes\", \"Notes and references\",\n",
    "    \"Photo gallery\", \"Works cited\", \"Photos\", \"Gallery\", \"Notes\", \"References and sources\",\n",
    "    \"References and notes\", \"External links and suggested reading\"]\n",
    "\n",
    "df['token_count'] = df.text.str.replace(',','').str.split().str.len()\n",
    "\n",
    "df = df[~df['section'].isin(discard_categories)]\n",
    "df=df.loc[df[\"token_count\"]>20]\n",
    "df=df.loc[df[\"token_count\"]<800] #Removing lengthy sections due to the the model's limitations\n",
    "df['context'] = df.article + \"\\n\" + df.section + \"\\n\\n\" + df.text"
   ]
  },
  {
   "cell_type": "markdown",
   "id": "2b1b3720",
   "metadata": {},
   "source": [
    "## 1.3. Logging to OpenAI's API"
   ]
  },
  {
   "cell_type": "code",
   "execution_count": 23,
   "id": "c415e003",
   "metadata": {},
   "outputs": [],
   "source": [
    "def read_api_credentials_from_word(file_path):\n",
    "    # Open the Word document using the python-docx library\n",
    "    doc = docx.Document(file_path)\n",
    "    # Initialize empty dictionaries to store the credentials\n",
    "    api_credentials = {}\n",
    "    # Iterate through all the paragraphs in the document\n",
    "    for para in doc.paragraphs:\n",
    "        # Split the paragraph text into words\n",
    "        words = para.text.split()\n",
    "        # Check if the first word is \"openai.organization\"\n",
    "        if words[0] == \"openai.organization\":\n",
    "            # Store the organization name in the api_credentials dictionary\n",
    "            api_credentials[\"organization\"] = words[2]\n",
    "        # Check if the first word is \"openai.api_key\"\n",
    "        if words[0] == \"openai.api_key\":\n",
    "            # Store the api key in the api_credentials dictionary\n",
    "            api_credentials[\"api_key\"] = words[2]\n",
    "    # Return the api_credentials dictionary\n",
    "    return api_credentials\n",
    "\n",
    "# Example usage\n",
    "file_path = \"/Users/daneran/credentials.docx\"\n",
    "api_credentials = read_api_credentials_from_word(file_path)\n",
    "\n",
    "openai.organization= api_credentials[\"organization\"]\n",
    "openai.api_key = api_credentials[\"api_key\"]\n",
    "#openai.Model.list()"
   ]
  },
  {
   "cell_type": "markdown",
   "id": "9d27ddc4",
   "metadata": {},
   "source": [
    "## 1.4. Generating Questions"
   ]
  },
  {
   "cell_type": "code",
   "execution_count": 9,
   "id": "bbece254",
   "metadata": {},
   "outputs": [],
   "source": [
    "def get_questions(context):\n",
    "    try:\n",
    "        response = openai.Completion.create(\n",
    "            engine=\"davinci-instruct-beta-v3\",\n",
    "            prompt=f\"Write questions based on the text below\\n\\nText: {context}\\n\\nQuestions:\\n1.\",\n",
    "            temperature=0,\n",
    "            max_tokens=257,\n",
    "            top_p=1,\n",
    "            frequency_penalty=0,\n",
    "            presence_penalty=0,\n",
    "            stop=[\"\\n\\n\"]\n",
    "        )\n",
    "        return response['choices'][0]['text']\n",
    "    except:\n",
    "        return \"\"\n",
    "\n",
    "\n",
    "df['questions'] = df.context.apply(get_questions)\n",
    "df['questions'] = \"1.\" + df.questions"
   ]
  },
  {
   "cell_type": "markdown",
   "id": "5e0c2d26",
   "metadata": {},
   "source": [
    "## 1.5. Generating Answers "
   ]
  },
  {
   "cell_type": "code",
   "execution_count": 11,
   "id": "852aec0d",
   "metadata": {},
   "outputs": [],
   "source": [
    "def get_answers(row):\n",
    "    try:\n",
    "        response = openai.Completion.create(\n",
    "            engine=\"davinci-instruct-beta-v3\",\n",
    "            prompt=f\"Write answers based on the text below\\n\\nText: {row.context}\\n\\nQuestions:\\n{row.questions}\\n\\nAnswers:\\n1.\",\n",
    "            temperature=0,\n",
    "            max_tokens=257,\n",
    "            top_p=1,\n",
    "            frequency_penalty=0,\n",
    "            presence_penalty=0\n",
    "        )\n",
    "        return response['choices'][0]['text']\n",
    "    except Exception as e:\n",
    "        print (e)\n",
    "        return \"\"\n",
    "\n",
    "\n",
    "df['answers']= df.apply(get_answers, axis=1)\n",
    "df['answers'] = \"1.\" + df.answers\n",
    "df = df.dropna().reset_index().drop('index',axis=1)\n"
   ]
  },
  {
   "cell_type": "code",
   "execution_count": 12,
   "id": "88b69dc1",
   "metadata": {},
   "outputs": [
    {
     "data": {
      "text/plain": [
       "array(['Anaphora (linguistics)', 'Automated essay scoring',\n",
       "       'Automatic hyperlinking', 'Automatic summarization',\n",
       "       'CLAWS (linguistics)', 'Collocation extraction', 'Entity linking',\n",
       "       'Google Neural Machine Translation', 'Language identification',\n",
       "       'Lemmatisation', 'Linguistic empathy', 'Machine translation',\n",
       "       'Mobile translation',\n",
       "       'Name resolution (semantics and text extraction)',\n",
       "       'Named-entity recognition', 'Neural machine translation',\n",
       "       'Open information extraction', 'Part-of-speech tagging',\n",
       "       'Phrase chunking', 'Question answering', 'Relationship extraction',\n",
       "       'Résumé parsing', 'Semantic parsing', 'Semantic role labeling',\n",
       "       'Sentence boundary disambiguation', 'Shallow parsing', 'Stemming',\n",
       "       'Terminology extraction', 'Text segmentation',\n",
       "       'Text simplification', 'Textual entailment', 'Truecasing'],\n",
       "      dtype=object)"
      ]
     },
     "execution_count": 12,
     "metadata": {},
     "output_type": "execute_result"
    }
   ],
   "source": [
    "df.article.unique()"
   ]
  },
  {
   "cell_type": "markdown",
   "id": "1d74bf0c",
   "metadata": {},
   "source": [
    "## 1.6. An Example"
   ]
  },
  {
   "cell_type": "code",
   "execution_count": 18,
   "id": "de45318f",
   "metadata": {},
   "outputs": [
    {
     "data": {
      "text/html": [
       "<div>\n",
       "<style scoped>\n",
       "    .dataframe tbody tr th:only-of-type {\n",
       "        vertical-align: middle;\n",
       "    }\n",
       "\n",
       "    .dataframe tbody tr th {\n",
       "        vertical-align: top;\n",
       "    }\n",
       "\n",
       "    .dataframe thead th {\n",
       "        text-align: right;\n",
       "    }\n",
       "</style>\n",
       "<table border=\"1\" class=\"dataframe\">\n",
       "  <thead>\n",
       "    <tr style=\"text-align: right;\">\n",
       "      <th></th>\n",
       "      <th>article</th>\n",
       "      <th>section</th>\n",
       "      <th>text</th>\n",
       "      <th>token_count</th>\n",
       "      <th>context</th>\n",
       "      <th>questions</th>\n",
       "      <th>answers</th>\n",
       "    </tr>\n",
       "  </thead>\n",
       "  <tbody>\n",
       "    <tr>\n",
       "      <th>52</th>\n",
       "      <td>Named-entity recognition</td>\n",
       "      <td>intro</td>\n",
       "      <td>Named-entity recognition (NER) (also known as ...</td>\n",
       "      <td>69</td>\n",
       "      <td>Named-entity recognition\\nintro\\n\\nNamed-entit...</td>\n",
       "      <td>1. What is the purpose of named-entity recogni...</td>\n",
       "      <td>1. Named-entity recognition is a subtask of in...</td>\n",
       "    </tr>\n",
       "    <tr>\n",
       "      <th>53</th>\n",
       "      <td>Named-entity recognition</td>\n",
       "      <td>Named-entity recognition platforms</td>\n",
       "      <td>Notable NER platforms include:\\n\\nGATE support...</td>\n",
       "      <td>44</td>\n",
       "      <td>Named-entity recognition\\nNamed-entity recogni...</td>\n",
       "      <td>1. What is a named-entity recognition platform...</td>\n",
       "      <td>1. A named-entity recognition platform is a so...</td>\n",
       "    </tr>\n",
       "    <tr>\n",
       "      <th>54</th>\n",
       "      <td>Named-entity recognition</td>\n",
       "      <td>Problem definition</td>\n",
       "      <td>In the expression named entity, the word named...</td>\n",
       "      <td>445</td>\n",
       "      <td>Named-entity recognition\\nProblem definition\\n...</td>\n",
       "      <td>1. What is the difference between a name and a...</td>\n",
       "      <td>1. A name is a string of tokens that stands (f...</td>\n",
       "    </tr>\n",
       "    <tr>\n",
       "      <th>55</th>\n",
       "      <td>Named-entity recognition</td>\n",
       "      <td>Approaches</td>\n",
       "      <td>NER systems have been created that use linguis...</td>\n",
       "      <td>84</td>\n",
       "      <td>Named-entity recognition\\nApproaches\\n\\nNER sy...</td>\n",
       "      <td>1. What are the different types of NER systems...</td>\n",
       "      <td>1. There are different types of NER systems th...</td>\n",
       "    </tr>\n",
       "    <tr>\n",
       "      <th>56</th>\n",
       "      <td>Named-entity recognition</td>\n",
       "      <td>Problem domains</td>\n",
       "      <td>In 2001, research indicated that even state-of...</td>\n",
       "      <td>176</td>\n",
       "      <td>Named-entity recognition\\nProblem domains\\n\\nI...</td>\n",
       "      <td>1. What is the main problem with NER systems?\\...</td>\n",
       "      <td>1. The main problem with NER systems is that t...</td>\n",
       "    </tr>\n",
       "    <tr>\n",
       "      <th>57</th>\n",
       "      <td>Named-entity recognition</td>\n",
       "      <td>Current challenges and research</td>\n",
       "      <td>Despite high F1 numbers reported on the MUC-7 ...</td>\n",
       "      <td>238</td>\n",
       "      <td>Named-entity recognition\\nCurrent challenges a...</td>\n",
       "      <td>1. What are the main efforts in named-entity r...</td>\n",
       "      <td>1. The main efforts in named-entity recognitio...</td>\n",
       "    </tr>\n",
       "  </tbody>\n",
       "</table>\n",
       "</div>"
      ],
      "text/plain": [
       "                     article                             section  \\\n",
       "52  Named-entity recognition                               intro   \n",
       "53  Named-entity recognition  Named-entity recognition platforms   \n",
       "54  Named-entity recognition                  Problem definition   \n",
       "55  Named-entity recognition                          Approaches   \n",
       "56  Named-entity recognition                     Problem domains   \n",
       "57  Named-entity recognition     Current challenges and research   \n",
       "\n",
       "                                                 text  token_count  \\\n",
       "52  Named-entity recognition (NER) (also known as ...           69   \n",
       "53  Notable NER platforms include:\\n\\nGATE support...           44   \n",
       "54  In the expression named entity, the word named...          445   \n",
       "55  NER systems have been created that use linguis...           84   \n",
       "56  In 2001, research indicated that even state-of...          176   \n",
       "57  Despite high F1 numbers reported on the MUC-7 ...          238   \n",
       "\n",
       "                                              context  \\\n",
       "52  Named-entity recognition\\nintro\\n\\nNamed-entit...   \n",
       "53  Named-entity recognition\\nNamed-entity recogni...   \n",
       "54  Named-entity recognition\\nProblem definition\\n...   \n",
       "55  Named-entity recognition\\nApproaches\\n\\nNER sy...   \n",
       "56  Named-entity recognition\\nProblem domains\\n\\nI...   \n",
       "57  Named-entity recognition\\nCurrent challenges a...   \n",
       "\n",
       "                                            questions  \\\n",
       "52  1. What is the purpose of named-entity recogni...   \n",
       "53  1. What is a named-entity recognition platform...   \n",
       "54  1. What is the difference between a name and a...   \n",
       "55  1. What are the different types of NER systems...   \n",
       "56  1. What is the main problem with NER systems?\\...   \n",
       "57  1. What are the main efforts in named-entity r...   \n",
       "\n",
       "                                              answers  \n",
       "52  1. Named-entity recognition is a subtask of in...  \n",
       "53  1. A named-entity recognition platform is a so...  \n",
       "54  1. A name is a string of tokens that stands (f...  \n",
       "55  1. There are different types of NER systems th...  \n",
       "56  1. The main problem with NER systems is that t...  \n",
       "57  1. The main efforts in named-entity recognitio...  "
      ]
     },
     "execution_count": 18,
     "metadata": {},
     "output_type": "execute_result"
    }
   ],
   "source": [
    "df.loc[(df[\"article\"]==\"Named-entity recognition\")]"
   ]
  },
  {
   "cell_type": "code",
   "execution_count": 20,
   "id": "f891b605",
   "metadata": {},
   "outputs": [
    {
     "data": {
      "text/plain": [
       "array(['NER systems have been created that use linguistic grammar-based techniques as well as statistical models such as machine learning. Hand-crafted grammar-based systems typically obtain better precision, but at the cost of lower recall and months of work by experienced computational linguists. Statistical NER systems typically require a large amount of manually annotated training data. Semisupervised approaches have been suggested to avoid part of the annotation effort.Many different classifier types have been used to perform machine-learned NER, with conditional random fields being a typical choice.'],\n",
       "      dtype=object)"
      ]
     },
     "execution_count": 20,
     "metadata": {},
     "output_type": "execute_result"
    }
   ],
   "source": [
    "df.loc[(df[\"article\"]==\"Named-entity recognition\")&(df[\"section\"]==\"Approaches\")].text.values"
   ]
  },
  {
   "cell_type": "code",
   "execution_count": 21,
   "id": "1e3c6f51",
   "metadata": {},
   "outputs": [
    {
     "data": {
      "text/plain": [
       "array(['1. What are the different types of NER systems?\\n2. What are the benefits of using a grammar-based system?\\n3. What is the typical choice for a classifier type when performing machine-learned NER?'],\n",
       "      dtype=object)"
      ]
     },
     "execution_count": 21,
     "metadata": {},
     "output_type": "execute_result"
    }
   ],
   "source": [
    "df.loc[(df[\"article\"]==\"Named-entity recognition\")&(df[\"section\"]==\"Approaches\")].questions.values"
   ]
  },
  {
   "cell_type": "code",
   "execution_count": 22,
   "id": "5febdbd2",
   "metadata": {},
   "outputs": [
    {
     "data": {
      "text/plain": [
       "array(['1. There are different types of NER systems that use linguistic grammar-based techniques and statistical models.\\n2. The benefits of using a grammar-based system are that they typically obtain better precision.\\n3. The typical choice for a classifier type when performing machine-learned NER is conditional random fields.'],\n",
       "      dtype=object)"
      ]
     },
     "execution_count": 22,
     "metadata": {},
     "output_type": "execute_result"
    }
   ],
   "source": [
    "df.loc[(df[\"article\"]==\"Named-entity recognition\")&(df[\"section\"]==\"Approaches\")].answers.values"
   ]
  }
 ],
 "metadata": {
  "kernelspec": {
   "display_name": "Python 3 (ipykernel)",
   "language": "python",
   "name": "python3"
  },
  "language_info": {
   "codemirror_mode": {
    "name": "ipython",
    "version": 3
   },
   "file_extension": ".py",
   "mimetype": "text/x-python",
   "name": "python",
   "nbconvert_exporter": "python",
   "pygments_lexer": "ipython3",
   "version": "3.10.8"
  }
 },
 "nbformat": 4,
 "nbformat_minor": 5
}
